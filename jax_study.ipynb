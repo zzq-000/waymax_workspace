{
 "cells": [
  {
   "cell_type": "code",
   "execution_count": 18,
   "metadata": {},
   "outputs": [
    {
     "name": "stdout",
     "output_type": "stream",
     "text": [
      "[0 1 2 3 4 5 6 7 8 9]\n"
     ]
    }
   ],
   "source": [
    "import matplotlib.pyplot as plt\n",
    "import numpy as np\n",
    "\n",
    "x_np = np.linspace(0, 10, 1000)\n",
    "y_np = 2 * np.sin(x_np) * np.cos(x_np)\n",
    "# plt.plot(x_np, y_np)"
   ]
  },
  {
   "cell_type": "code",
   "execution_count": null,
   "metadata": {},
   "outputs": [],
   "source": [
    "import jax.numpy as jnp\n",
    "\n",
    "x_jnp = jnp.linspace(0, 10, 1000)\n",
    "y_jnp = 2 * jnp.sin(x_jnp) * jnp.cos(x_jnp)\n",
    "plt.plot(x_jnp, y_jnp)"
   ]
  },
  {
   "cell_type": "code",
   "execution_count": 14,
   "metadata": {},
   "outputs": [
    {
     "name": "stdout",
     "output_type": "stream",
     "text": [
      "[0 1 2 3 4 5 6 7 8 9]\n",
      "[10  1  2  3  4  5  6  7  8  9]\n",
      "[0 1 2 3 4 5 6 7 8 9]\n",
      "[0 1 2 3 4 5 6 7 8 9]\n",
      "[10  1  2  3  4  5  6  7  8  9]\n"
     ]
    }
   ],
   "source": [
    "x = np.arange(10)\n",
    "print(x)\n",
    "x[0] = 10\n",
    "print(x)\n",
    "\n",
    "x = jnp.arange(10)\n",
    "print(x)\n",
    "# x[0] = 10\n",
    "y = x.at[0].set(10)\n",
    "print(x)\n",
    "print(y)"
   ]
  },
  {
   "cell_type": "code",
   "execution_count": null,
   "metadata": {},
   "outputs": [],
   "source": [
    "import jax.numpy as jnp\n",
    "jnp.add(1, 1.0)  # jax.numpy API implicitly promotes mixed types.\n",
    "from jax import lax\n",
    "lax.add(1, 1.0)  # jax.lax API requires explicit type promotion."
   ]
  },
  {
   "cell_type": "code",
   "execution_count": 19,
   "metadata": {},
   "outputs": [
    {
     "data": {
      "text/plain": [
       "array([1., 3., 4., 4., 4., 4., 4., 4., 4., 4., 3., 1.])"
      ]
     },
     "execution_count": 19,
     "metadata": {},
     "output_type": "execute_result"
    }
   ],
   "source": [
    "x = np.array([1, 2, 1])\n",
    "y = np.ones(10)\n",
    "np.convolve(x, y)"
   ]
  },
  {
   "cell_type": "code",
   "execution_count": 27,
   "metadata": {},
   "outputs": [
    {
     "name": "stdout",
     "output_type": "stream",
     "text": [
      "[[-0.96211952 -1.49932107 -0.4211677   0.64748899]\n",
      " [ 1.00984     0.45534519  0.26355762  0.09083976]\n",
      " [-0.31524434 -0.44052481 -1.71060737 -0.48899574]]\n",
      "[ 0.69114754 -0.11198041 -0.92202481  0.2910646 ]\n",
      "Running f():\n",
      "  x = Traced<ShapedArray(float32[3,4])>with<DynamicJaxprTrace(level=1/0)>\n",
      "  y = Traced<ShapedArray(float32[4])>with<DynamicJaxprTrace(level=1/0)>\n",
      "  result = Traced<ShapedArray(float32[3])>with<DynamicJaxprTrace(level=1/0)>\n"
     ]
    },
    {
     "data": {
      "text/plain": [
       "Array([1.792804 , 6.1981816, 2.2591777], dtype=float32)"
      ]
     },
     "execution_count": 27,
     "metadata": {},
     "output_type": "execute_result"
    }
   ],
   "source": [
    "from jax import jit\n",
    "@jit\n",
    "def f(x, y):\n",
    "  print(\"Running f():\")\n",
    "  print(f\"  x = {x}\")\n",
    "  print(f\"  y = {y}\")\n",
    "  result = jnp.dot(x + 1, y + 1)\n",
    "  print(f\"  result = {result}\")\n",
    "  return result\n",
    "\n",
    "x = np.random.randn(3, 4)\n",
    "y = np.random.randn(4)\n",
    "print(x)\n",
    "print(y)\n",
    "f(x, y)\n",
    "# print(result.shape)"
   ]
  },
  {
   "cell_type": "code",
   "execution_count": 28,
   "metadata": {},
   "outputs": [
    {
     "data": {
      "text/plain": [
       "Array([10.174366,  3.642298,  2.438101], dtype=float32)"
      ]
     },
     "execution_count": 28,
     "metadata": {},
     "output_type": "execute_result"
    }
   ],
   "source": [
    "x2 = np.random.randn(3, 4)\n",
    "y2 = np.random.randn(4)\n",
    "f(x2, y2)"
   ]
  }
 ],
 "metadata": {
  "kernelspec": {
   "display_name": "waymax",
   "language": "python",
   "name": "python3"
  },
  "language_info": {
   "codemirror_mode": {
    "name": "ipython",
    "version": 3
   },
   "file_extension": ".py",
   "mimetype": "text/x-python",
   "name": "python",
   "nbconvert_exporter": "python",
   "pygments_lexer": "ipython3",
   "version": "3.10.13"
  },
  "orig_nbformat": 4
 },
 "nbformat": 4,
 "nbformat_minor": 2
}
