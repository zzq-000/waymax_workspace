{
 "cells": [
  {
   "cell_type": "code",
   "execution_count": 83,
   "metadata": {},
   "outputs": [],
   "source": [
    "import tensorflow as tf\n",
    "from tensorflow.data import TFRecordDataset, AUTOTUNE\n",
    "# import tf.data.TFRecordDataset\n",
    "import jax\n",
    "from typing import Optional\n",
    "from waymax.config import DatasetConfig, DataFormat\n",
    "import jax.numpy as jnp\n",
    "import functools\n"
   ]
  },
  {
   "cell_type": "code",
   "execution_count": 84,
   "metadata": {},
   "outputs": [],
   "source": [
    "path = \"./uncompressed_tf_example_training_training_tfexample.tfrecord-00000-of-01000\"\n",
    "myconfig = DatasetConfig(\n",
    "    path = \"./uncompressed_tf_example_training_training_tfexample.tfrecord-00000-of-01000\",\n",
    "    max_num_rg_points=20000,\n",
    "    data_format=DataFormat.TFRECORD,\n",
    ")"
   ]
  },
  {
   "cell_type": "code",
   "execution_count": 93,
   "metadata": {},
   "outputs": [],
   "source": [
    "from waymax.dataloader import womd_utils\n",
    "def preprocess_serialized_womd_data(\n",
    "    serialized: bytes, config: DatasetConfig\n",
    ") -> dict[str, tf.Tensor]:\n",
    "  \"\"\"Parses serialized tf example into tf Tensor dict.\"\"\"\n",
    "  womd_features = womd_utils.get_features_description(\n",
    "      include_sdc_paths=config.include_sdc_paths,\n",
    "      max_num_rg_points=config.max_num_rg_points,\n",
    "      num_paths=config.num_paths,\n",
    "      num_points_per_path=config.num_points_per_path,\n",
    "  )\n",
    "\n",
    "  deserialized = tf.io.parse_example(serialized, womd_features)\n",
    "  insight(deserialized, \"before_aggregate\")\n",
    "  return preprocess_womd_example(\n",
    "      deserialized,\n",
    "      aggregate_timesteps=config.aggregate_timesteps,\n",
    "      max_num_objects=config.max_num_objects,\n",
    "  )\n",
    "\n",
    "\n",
    "def preprocess_womd_example(\n",
    "    example: dict[str, tf.Tensor],\n",
    "    aggregate_timesteps: bool,\n",
    "    max_num_objects: Optional[int] = None,\n",
    ") -> dict[str, tf.Tensor]:\n",
    "  \"\"\"Preprocesses dict of tf tensors, keyed by str.\"\"\"\n",
    "\n",
    "  if aggregate_timesteps:\n",
    "    processed = womd_utils.aggregate_time_tensors(example)\n",
    "    wrap_yaws = lambda yaws: (yaws + jnp.pi) % (2 * jnp.pi) - jnp.pi\n",
    "    processed['state/all/bbox_yaw'] = wrap_yaws(processed['state/all/bbox_yaw'])\n",
    "  else:\n",
    "    processed = example\n",
    "\n",
    "  if max_num_objects is not None:\n",
    "    # TODO check sdc included if it is needed.\n",
    "    return {\n",
    "        k: v[:max_num_objects] if k.startswith('state/') else v\n",
    "        for k, v in processed.items()\n",
    "    }\n",
    "  else:\n",
    "    return processed\n",
    "\n",
    "def insight(data: dict[str: tf.Tensor], prefix: str):\n",
    "  with open(f\"{prefix}_insight.txt\", mode='w') as f:\n",
    "    for key in data:\n",
    "          f.write(f\"key: {key}, value shape: {data[key].shape}, dim: {data[key].ndim}\\n\")\n"
   ]
  },
  {
   "cell_type": "code",
   "execution_count": 94,
   "metadata": {},
   "outputs": [],
   "source": [
    "files_to_load = [path]\n",
    "files = tf.data.Dataset.from_tensor_slices(files_to_load)\n",
    "\n",
    "files = files.shard(jax.process_count(), jax.process_index())\n",
    "\n"
   ]
  },
  {
   "cell_type": "code",
   "execution_count": 95,
   "metadata": {},
   "outputs": [],
   "source": [
    "data = files.interleave(tf.data.TFRecordDataset, num_parallel_calls=tf.data.AUTOTUNE, deterministic=True)\n",
    "# data = tf.data.TFRecordDataset(files)\n",
    "# myconfig.aggregate_timesteps = False\n",
    "preprocess_fn = functools.partial(preprocess_serialized_womd_data, config = myconfig)\n",
    "\n",
    "# insight(data, \"before_aggregate\")\n",
    "\n",
    "data = data.map(\n",
    "    preprocess_fn, num_parallel_calls=AUTOTUNE, deterministic=True\n",
    ")\n",
    "\n"
   ]
  },
  {
   "cell_type": "code",
   "execution_count": 96,
   "metadata": {},
   "outputs": [],
   "source": [
    "for item in data.take(1):\n",
    "    insight(item, \"after_aggregate\")"
   ]
  },
  {
   "cell_type": "code",
   "execution_count": 107,
   "metadata": {},
   "outputs": [
    {
     "name": "stdout",
     "output_type": "stream",
     "text": [
      "Trajectory(x=Array([[0., 0., 0., ..., 0., 0., 0.],\n",
      "       [0., 0., 0., ..., 0., 0., 0.],\n",
      "       [0., 0., 0., ..., 0., 0., 0.],\n",
      "       ...,\n",
      "       [0., 0., 0., ..., 0., 0., 0.],\n",
      "       [0., 0., 0., ..., 0., 0., 0.],\n",
      "       [0., 0., 0., ..., 0., 0., 0.]], dtype=float32), y=Array([[0., 0., 0., ..., 0., 0., 0.],\n",
      "       [0., 0., 0., ..., 0., 0., 0.],\n",
      "       [0., 0., 0., ..., 0., 0., 0.],\n",
      "       ...,\n",
      "       [0., 0., 0., ..., 0., 0., 0.],\n",
      "       [0., 0., 0., ..., 0., 0., 0.],\n",
      "       [0., 0., 0., ..., 0., 0., 0.]], dtype=float32), z=Array([[0., 0., 0., ..., 0., 0., 0.],\n",
      "       [0., 0., 0., ..., 0., 0., 0.],\n",
      "       [0., 0., 0., ..., 0., 0., 0.],\n",
      "       ...,\n",
      "       [0., 0., 0., ..., 0., 0., 0.],\n",
      "       [0., 0., 0., ..., 0., 0., 0.],\n",
      "       [0., 0., 0., ..., 0., 0., 0.]], dtype=float32), vel_x=Array([[0., 0., 0., ..., 0., 0., 0.],\n",
      "       [0., 0., 0., ..., 0., 0., 0.],\n",
      "       [0., 0., 0., ..., 0., 0., 0.],\n",
      "       ...,\n",
      "       [0., 0., 0., ..., 0., 0., 0.],\n",
      "       [0., 0., 0., ..., 0., 0., 0.],\n",
      "       [0., 0., 0., ..., 0., 0., 0.]], dtype=float32), vel_y=Array([[0., 0., 0., ..., 0., 0., 0.],\n",
      "       [0., 0., 0., ..., 0., 0., 0.],\n",
      "       [0., 0., 0., ..., 0., 0., 0.],\n",
      "       ...,\n",
      "       [0., 0., 0., ..., 0., 0., 0.],\n",
      "       [0., 0., 0., ..., 0., 0., 0.],\n",
      "       [0., 0., 0., ..., 0., 0., 0.]], dtype=float32), yaw=Array([[0., 0., 0., ..., 0., 0., 0.],\n",
      "       [0., 0., 0., ..., 0., 0., 0.],\n",
      "       [0., 0., 0., ..., 0., 0., 0.],\n",
      "       ...,\n",
      "       [0., 0., 0., ..., 0., 0., 0.],\n",
      "       [0., 0., 0., ..., 0., 0., 0.],\n",
      "       [0., 0., 0., ..., 0., 0., 0.]], dtype=float32), valid=Array([[False, False, False, ..., False, False, False],\n",
      "       [False, False, False, ..., False, False, False],\n",
      "       [False, False, False, ..., False, False, False],\n",
      "       ...,\n",
      "       [False, False, False, ..., False, False, False],\n",
      "       [False, False, False, ..., False, False, False],\n",
      "       [False, False, False, ..., False, False, False]], dtype=bool), timestamp_micros=Array([[0, 0, 0, ..., 0, 0, 0],\n",
      "       [0, 0, 0, ..., 0, 0, 0],\n",
      "       [0, 0, 0, ..., 0, 0, 0],\n",
      "       ...,\n",
      "       [0, 0, 0, ..., 0, 0, 0],\n",
      "       [0, 0, 0, ..., 0, 0, 0],\n",
      "       [0, 0, 0, ..., 0, 0, 0]], dtype=int32), length=Array([[0., 0., 0., ..., 0., 0., 0.],\n",
      "       [0., 0., 0., ..., 0., 0., 0.],\n",
      "       [0., 0., 0., ..., 0., 0., 0.],\n",
      "       ...,\n",
      "       [0., 0., 0., ..., 0., 0., 0.],\n",
      "       [0., 0., 0., ..., 0., 0., 0.],\n",
      "       [0., 0., 0., ..., 0., 0., 0.]], dtype=float32), width=Array([[0., 0., 0., ..., 0., 0., 0.],\n",
      "       [0., 0., 0., ..., 0., 0., 0.],\n",
      "       [0., 0., 0., ..., 0., 0., 0.],\n",
      "       ...,\n",
      "       [0., 0., 0., ..., 0., 0., 0.],\n",
      "       [0., 0., 0., ..., 0., 0., 0.],\n",
      "       [0., 0., 0., ..., 0., 0., 0.]], dtype=float32), height=Array([[0., 0., 0., ..., 0., 0., 0.],\n",
      "       [0., 0., 0., ..., 0., 0., 0.],\n",
      "       [0., 0., 0., ..., 0., 0., 0.],\n",
      "       ...,\n",
      "       [0., 0., 0., ..., 0., 0., 0.],\n",
      "       [0., 0., 0., ..., 0., 0., 0.],\n",
      "       [0., 0., 0., ..., 0., 0., 0.]], dtype=float32))\n",
      "(128, 91)\n",
      "(128, 91)\n",
      "Trajectory(x=Array([[ 1.2628741e+03,  0.0000000e+00,  0.0000000e+00, ...,\n",
      "         0.0000000e+00,  0.0000000e+00,  0.0000000e+00],\n",
      "       [ 1.2665573e+03,  0.0000000e+00,  0.0000000e+00, ...,\n",
      "         0.0000000e+00,  0.0000000e+00,  0.0000000e+00],\n",
      "       [ 1.2597880e+03,  0.0000000e+00,  0.0000000e+00, ...,\n",
      "         0.0000000e+00,  0.0000000e+00,  0.0000000e+00],\n",
      "       ...,\n",
      "       [-1.0000000e+00,  0.0000000e+00,  0.0000000e+00, ...,\n",
      "         0.0000000e+00,  0.0000000e+00,  0.0000000e+00],\n",
      "       [-1.0000000e+00,  0.0000000e+00,  0.0000000e+00, ...,\n",
      "         0.0000000e+00,  0.0000000e+00,  0.0000000e+00],\n",
      "       [-1.0000000e+00,  0.0000000e+00,  0.0000000e+00, ...,\n",
      "         0.0000000e+00,  0.0000000e+00,  0.0000000e+00]], dtype=float32), y=Array([[692.5664 ,   0.     ,   0.     , ...,   0.     ,   0.     ,\n",
      "          0.     ],\n",
      "       [694.3548 ,   0.     ,   0.     , ...,   0.     ,   0.     ,\n",
      "          0.     ],\n",
      "       [724.75903,   0.     ,   0.     , ...,   0.     ,   0.     ,\n",
      "          0.     ],\n",
      "       ...,\n",
      "       [ -1.     ,   0.     ,   0.     , ...,   0.     ,   0.     ,\n",
      "          0.     ],\n",
      "       [ -1.     ,   0.     ,   0.     , ...,   0.     ,   0.     ,\n",
      "          0.     ],\n",
      "       [ -1.     ,   0.     ,   0.     , ...,   0.     ,   0.     ,\n",
      "          0.     ]], dtype=float32), z=Array([[-325.64813,    0.     ,    0.     , ...,    0.     ,    0.     ,\n",
      "           0.     ],\n",
      "       [-325.62143,    0.     ,    0.     , ...,    0.     ,    0.     ,\n",
      "           0.     ],\n",
      "       [-325.84915,    0.     ,    0.     , ...,    0.     ,    0.     ,\n",
      "           0.     ],\n",
      "       ...,\n",
      "       [  -1.     ,    0.     ,    0.     , ...,    0.     ,    0.     ,\n",
      "           0.     ],\n",
      "       [  -1.     ,    0.     ,    0.     , ...,    0.     ,    0.     ,\n",
      "           0.     ],\n",
      "       [  -1.     ,    0.     ,    0.     , ...,    0.     ,    0.     ,\n",
      "           0.     ]], dtype=float32), vel_x=Array([[ 1.0620117,  0.       ,  0.       , ...,  0.       ,  0.       ,\n",
      "         0.       ],\n",
      "       [ 1.0754395,  0.       ,  0.       , ...,  0.       ,  0.       ,\n",
      "         0.       ],\n",
      "       [ 1.496582 ,  0.       ,  0.       , ...,  0.       ,  0.       ,\n",
      "         0.       ],\n",
      "       ...,\n",
      "       [-1.       ,  0.       ,  0.       , ...,  0.       ,  0.       ,\n",
      "         0.       ],\n",
      "       [-1.       ,  0.       ,  0.       , ...,  0.       ,  0.       ,\n",
      "         0.       ],\n",
      "       [-1.       ,  0.       ,  0.       , ...,  0.       ,  0.       ,\n",
      "         0.       ]], dtype=float32), vel_y=Array([[-10.919189,   0.      ,   0.      , ...,   0.      ,   0.      ,\n",
      "          0.      ],\n",
      "       [-10.162964,   0.      ,   0.      , ...,   0.      ,   0.      ,\n",
      "          0.      ],\n",
      "       [-13.562012,   0.      ,   0.      , ...,   0.      ,   0.      ,\n",
      "          0.      ],\n",
      "       ...,\n",
      "       [ -1.      ,   0.      ,   0.      , ...,   0.      ,   0.      ,\n",
      "          0.      ],\n",
      "       [ -1.      ,   0.      ,   0.      , ...,   0.      ,   0.      ,\n",
      "          0.      ],\n",
      "       [ -1.      ,   0.      ,   0.      , ...,   0.      ,   0.      ,\n",
      "          0.      ]], dtype=float32), yaw=Array([[-1.4778644,  0.       ,  0.       , ...,  0.       ,  0.       ,\n",
      "         0.       ],\n",
      "       [-1.467276 ,  0.       ,  0.       , ...,  0.       ,  0.       ,\n",
      "         0.       ],\n",
      "       [-1.4615816,  0.       ,  0.       , ...,  0.       ,  0.       ,\n",
      "         0.       ],\n",
      "       ...,\n",
      "       [-1.       ,  0.       ,  0.       , ...,  0.       ,  0.       ,\n",
      "         0.       ],\n",
      "       [-1.       ,  0.       ,  0.       , ...,  0.       ,  0.       ,\n",
      "         0.       ],\n",
      "       [-1.       ,  0.       ,  0.       , ...,  0.       ,  0.       ,\n",
      "         0.       ]], dtype=float32), valid=Array([[ True, False, False, ..., False, False, False],\n",
      "       [ True, False, False, ..., False, False, False],\n",
      "       [ True, False, False, ..., False, False, False],\n",
      "       ...,\n",
      "       [False, False, False, ..., False, False, False],\n",
      "       [False, False, False, ..., False, False, False],\n",
      "       [False, False, False, ..., False, False, False]], dtype=bool), timestamp_micros=Array([[ 0,  0,  0, ...,  0,  0,  0],\n",
      "       [ 0,  0,  0, ...,  0,  0,  0],\n",
      "       [ 0,  0,  0, ...,  0,  0,  0],\n",
      "       ...,\n",
      "       [-1,  0,  0, ...,  0,  0,  0],\n",
      "       [-1,  0,  0, ...,  0,  0,  0],\n",
      "       [-1,  0,  0, ...,  0,  0,  0]], dtype=int32), length=Array([[ 4.594174 ,  0.       ,  0.       , ...,  0.       ,  0.       ,\n",
      "         0.       ],\n",
      "       [ 4.507073 ,  0.       ,  0.       , ...,  0.       ,  0.       ,\n",
      "         0.       ],\n",
      "       [ 4.2425575,  0.       ,  0.       , ...,  0.       ,  0.       ,\n",
      "         0.       ],\n",
      "       ...,\n",
      "       [-1.       ,  0.       ,  0.       , ...,  0.       ,  0.       ,\n",
      "         0.       ],\n",
      "       [-1.       ,  0.       ,  0.       , ...,  0.       ,  0.       ,\n",
      "         0.       ],\n",
      "       [-1.       ,  0.       ,  0.       , ...,  0.       ,  0.       ,\n",
      "         0.       ]], dtype=float32), width=Array([[ 2.1389687,  0.       ,  0.       , ...,  0.       ,  0.       ,\n",
      "         0.       ],\n",
      "       [ 2.0978866,  0.       ,  0.       , ...,  0.       ,  0.       ,\n",
      "         0.       ],\n",
      "       [ 2.010177 ,  0.       ,  0.       , ...,  0.       ,  0.       ,\n",
      "         0.       ],\n",
      "       ...,\n",
      "       [-1.       ,  0.       ,  0.       , ...,  0.       ,  0.       ,\n",
      "         0.       ],\n",
      "       [-1.       ,  0.       ,  0.       , ...,  0.       ,  0.       ,\n",
      "         0.       ],\n",
      "       [-1.       ,  0.       ,  0.       , ...,  0.       ,  0.       ,\n",
      "         0.       ]], dtype=float32), height=Array([[ 1.7325976,  0.       ,  0.       , ...,  0.       ,  0.       ,\n",
      "         0.       ],\n",
      "       [ 1.6827981,  0.       ,  0.       , ...,  0.       ,  0.       ,\n",
      "         0.       ],\n",
      "       [ 1.6188384,  0.       ,  0.       , ...,  0.       ,  0.       ,\n",
      "         0.       ],\n",
      "       ...,\n",
      "       [-1.       ,  0.       ,  0.       , ...,  0.       ,  0.       ,\n",
      "         0.       ],\n",
      "       [-1.       ,  0.       ,  0.       , ...,  0.       ,  0.       ,\n",
      "         0.       ],\n",
      "       [-1.       ,  0.       ,  0.       , ...,  0.       ,  0.       ,\n",
      "         0.       ]], dtype=float32))\n",
      "[[ 1.2628741e+03  0.0000000e+00  0.0000000e+00 ...  0.0000000e+00\n",
      "   0.0000000e+00  0.0000000e+00]\n",
      " [ 1.2665573e+03  0.0000000e+00  0.0000000e+00 ...  0.0000000e+00\n",
      "   0.0000000e+00  0.0000000e+00]\n",
      " [ 1.2597880e+03  0.0000000e+00  0.0000000e+00 ...  0.0000000e+00\n",
      "   0.0000000e+00  0.0000000e+00]\n",
      " ...\n",
      " [-1.0000000e+00  0.0000000e+00  0.0000000e+00 ...  0.0000000e+00\n",
      "   0.0000000e+00  0.0000000e+00]\n",
      " [-1.0000000e+00  0.0000000e+00  0.0000000e+00 ...  0.0000000e+00\n",
      "   0.0000000e+00  0.0000000e+00]\n",
      " [-1.0000000e+00  0.0000000e+00  0.0000000e+00 ...  0.0000000e+00\n",
      "   0.0000000e+00  0.0000000e+00]]\n",
      "[[ 1.2628741e+03  1.2629750e+03  1.2630712e+03 ...  1.2665060e+03\n",
      "   1.2665034e+03  1.2665066e+03]\n",
      " [ 1.2665573e+03  1.2666639e+03  1.2667667e+03 ...  1.2639551e+03\n",
      "   1.2639685e+03  1.2639811e+03]\n",
      " [ 1.2597880e+03  1.2599324e+03  1.2600750e+03 ...  1.2650607e+03\n",
      "   1.2650656e+03  1.2650641e+03]\n",
      " ...\n",
      " [-1.0000000e+00 -1.0000000e+00 -1.0000000e+00 ... -1.0000000e+00\n",
      "  -1.0000000e+00 -1.0000000e+00]\n",
      " [-1.0000000e+00 -1.0000000e+00 -1.0000000e+00 ... -1.0000000e+00\n",
      "  -1.0000000e+00 -1.0000000e+00]\n",
      " [-1.0000000e+00 -1.0000000e+00 -1.0000000e+00 ... -1.0000000e+00\n",
      "  -1.0000000e+00 -1.0000000e+00]]\n",
      "[ True  True  True  True  True  True  True  True  True  True  True  True\n",
      "  True  True  True  True  True  True  True  True  True  True  True  True\n",
      "  True  True  True  True  True  True  True  True  True  True  True  True\n",
      "  True  True  True  True  True  True  True  True  True  True  True  True\n",
      "  True  True  True  True  True  True  True  True  True  True  True  True\n",
      "  True  True  True  True  True  True  True  True  True  True  True  True\n",
      "  True  True  True  True  True  True  True  True  True  True  True  True\n",
      "  True  True  True  True  True  True  True  True  True  True  True  True\n",
      "  True  True  True  True  True  True  True  True  True  True  True  True\n",
      "  True  True  True  True  True  True  True  True  True  True  True  True\n",
      "  True  True  True  True  True  True  True  True]\n",
      "[[0. 0. 0. ... 0. 0. 0.]\n",
      " [0. 0. 0. ... 0. 0. 0.]\n",
      " [0. 0. 0. ... 0. 0. 0.]\n",
      " ...\n",
      " [0. 0. 0. ... 0. 0. 0.]\n",
      " [0. 0. 0. ... 0. 0. 0.]\n",
      " [0. 0. 0. ... 0. 0. 0.]]\n",
      "[ True  True  True  True  True  True  True  True  True  True  True  True\n",
      "  True  True  True  True  True  True  True  True  True  True  True  True\n",
      "  True  True  True  True  True  True  True  True  True  True  True  True\n",
      "  True  True  True  True  True  True  True  True  True  True  True  True\n",
      "  True  True  True  True  True  True  True  True  True  True  True  True\n",
      "  True  True  True  True  True  True  True  True  True  True  True  True\n",
      "  True  True  True  True  True  True  True  True  True  True  True  True\n",
      "  True  True  True  True  True  True  True  True  True  True  True  True\n",
      "  True  True  True  True  True  True  True  True  True  True  True  True\n",
      "  True  True  True  True  True  True  True  True  True  True  True  True\n",
      "  True  True  True  True  True  True  True  True]\n",
      "[[0. 0. 0. ... 0. 0. 0.]\n",
      " [0. 0. 0. ... 0. 0. 0.]\n",
      " [0. 0. 0. ... 0. 0. 0.]\n",
      " ...\n",
      " [0. 0. 0. ... 0. 0. 0.]\n",
      " [0. 0. 0. ... 0. 0. 0.]\n",
      " [0. 0. 0. ... 0. 0. 0.]]\n",
      "[ True  True  True  True  True  True  True  True  True  True  True  True\n",
      "  True  True  True  True  True  True  True  True  True  True  True  True\n",
      "  True  True  True  True  True  True  True  True  True  True  True  True\n",
      "  True  True  True  True  True  True  True  True  True  True  True  True\n",
      "  True  True  True  True  True  True  True  True  True  True  True  True\n",
      "  True  True  True  True  True  True  True  True  True  True  True  True\n",
      "  True  True  True  True  True  True  True  True  True  True  True  True\n",
      "  True  True  True  True  True  True  True  True  True  True  True  True\n",
      "  True  True  True  True  True  True  True  True  True  True  True  True\n",
      "  True  True  True  True  True  True  True  True  True  True  True  True\n",
      "  True  True  True  True  True  True  True  True]\n",
      "[[0. 0. 0. ... 0. 0. 0.]\n",
      " [0. 0. 0. ... 0. 0. 0.]\n",
      " [0. 0. 0. ... 0. 0. 0.]\n",
      " ...\n",
      " [0. 0. 0. ... 0. 0. 0.]\n",
      " [0. 0. 0. ... 0. 0. 0.]\n",
      " [0. 0. 0. ... 0. 0. 0.]]\n",
      "[ True  True  True  True  True  True  True  True  True  True  True  True\n",
      "  True  True  True  True  True  True  True  True  True  True  True  True\n",
      "  True  True  True  True  True  True  True  True  True  True  True  True\n",
      "  True  True  True  True  True  True  True  True  True  True  True  True\n",
      "  True  True  True  True  True  True  True  True  True  True  True  True\n",
      "  True  True  True  True  True  True  True  True  True  True  True  True\n",
      "  True  True  True  True  True  True  True  True  True  True  True  True\n",
      "  True  True  True  True  True  True  True  True  True  True  True  True\n",
      "  True  True  True  True  True  True  True  True  True  True  True  True\n",
      "  True  True  True  True  True  True  True  True  True  True  True  True\n",
      "  True  True  True  True  True  True  True  True]\n",
      "[[0. 0. 0. ... 0. 0. 0.]\n",
      " [0. 0. 0. ... 0. 0. 0.]\n",
      " [0. 0. 0. ... 0. 0. 0.]\n",
      " ...\n",
      " [0. 0. 0. ... 0. 0. 0.]\n",
      " [0. 0. 0. ... 0. 0. 0.]\n",
      " [0. 0. 0. ... 0. 0. 0.]]\n",
      "[ True  True  True  True  True  True  True  True  True  True  True  True\n",
      "  True  True  True  True  True  True  True  True  True  True  True  True\n",
      "  True  True  True  True  True  True  True  True  True  True  True  True\n",
      "  True  True  True  True  True  True  True  True  True  True  True  True\n",
      "  True  True  True  True  True  True  True  True  True  True  True  True\n",
      "  True  True  True  True  True  True  True  True  True  True  True  True\n",
      "  True  True  True  True  True  True  True  True  True  True  True  True\n",
      "  True  True  True  True  True  True  True  True  True  True  True  True\n",
      "  True  True  True  True  True  True  True  True  True  True  True  True\n",
      "  True  True  True  True  True  True  True  True  True  True  True  True\n",
      "  True  True  True  True  True  True  True  True]\n",
      "[ True  True  True  True  True  True  True  True  True  True  True  True\n",
      "  True  True  True  True  True  True  True  True  True  True  True  True\n",
      "  True  True  True  True  True  True  True  True  True  True  True  True\n",
      "  True  True  True  True  True  True  True  True  True  True  True  True\n",
      "  True  True  True  True  True  True  True  True  True  True  True  True\n",
      "  True  True  True  True  True  True  True  True  True  True  True  True\n",
      "  True  True  True  True  True  True  True  True  True  True  True  True\n",
      "  True  True  True  True  True  True  True  True  True  True  True  True\n",
      "  True  True  True  True  True  True  True  True  True  True  True  True\n",
      "  True  True  True  True  True  True  True  True  True  True  True  True\n",
      "  True  True  True  True  True  True  True  True]\n",
      "[ True  True  True  True  True  True  True  True  True  True  True  True\n",
      "  True  True  True  True  True  True  True  True  True  True  True  True\n",
      "  True  True  True  True  True  True  True  True  True  True  True  True\n",
      "  True  True  True  True  True  True  True  True  True  True  True  True\n",
      "  True  True  True  True  True  True  True  True  True  True  True  True\n",
      "  True  True  True  True  True  True  True  True  True  True  True  True\n",
      "  True  True  True  True  True  True  True  True  True  True  True  True\n",
      "  True  True  True  True  True  True  True  True  True  True  True  True\n",
      "  True  True  True  True  True  True  True  True  True  True  True  True\n",
      "  True  True  True  True  True  True  True  True  True  True  True  True\n",
      "  True  True  True  True  True  True  True  True]\n",
      "[[0. 0. 0. ... 0. 0. 0.]\n",
      " [0. 0. 0. ... 0. 0. 0.]\n",
      " [0. 0. 0. ... 0. 0. 0.]\n",
      " ...\n",
      " [0. 0. 0. ... 0. 0. 0.]\n",
      " [0. 0. 0. ... 0. 0. 0.]\n",
      " [0. 0. 0. ... 0. 0. 0.]]\n"
     ]
    }
   ],
   "source": [
    "from waymax.dataloader import womd_factories\n",
    "\n",
    "for item in data.take(1):\n",
    "    # for k in item:\n",
    "    #     print(k, item[k].shape)\n",
    "    s = womd_factories.simulator_state_from_womd_dict(item)"
   ]
  },
  {
   "cell_type": "code",
   "execution_count": 29,
   "metadata": {},
   "outputs": [
    {
     "name": "stdout",
     "output_type": "stream",
     "text": [
      "False 20000 None None\n",
      "True None\n"
     ]
    }
   ],
   "source": [
    "print(myconfig.include_sdc_paths, myconfig.max_num_rg_points, myconfig.num_paths,myconfig.num_points_per_path)\n",
    "\n",
    "print(myconfig.aggregate_timesteps, myconfig.max_num_objects)"
   ]
  },
  {
   "cell_type": "code",
   "execution_count": 38,
   "metadata": {},
   "outputs": [
    {
     "name": "stdout",
     "output_type": "stream",
     "text": [
      "[0 1 2 3 4 5 6 7 8 9]\n",
      "<class 'jaxlib.xla_extension.ArrayImpl'>\n"
     ]
    }
   ],
   "source": [
    "import jax\n",
    "import jax.numpy as jnp\n",
    "\n",
    "x = jnp.arange(10)\n",
    "print(x)\n",
    "print(type(x))"
   ]
  },
  {
   "cell_type": "code",
   "execution_count": 39,
   "metadata": {},
   "outputs": [
    {
     "name": "stdout",
     "output_type": "stream",
     "text": [
      "3.83 ms ± 128 µs per loop (mean ± std. dev. of 7 runs, 100 loops each)\n"
     ]
    }
   ],
   "source": [
    "long_vector = jnp.arange(int(1e7))\n",
    "\n",
    "%timeit jnp.dot(long_vector, long_vector).block_until_ready()"
   ]
  },
  {
   "cell_type": "code",
   "execution_count": 41,
   "metadata": {},
   "outputs": [
    {
     "name": "stdout",
     "output_type": "stream",
     "text": [
      "30.0\n",
      "[2. 4. 6. 8.]\n"
     ]
    }
   ],
   "source": [
    "def sum_of_squares(x):\n",
    "  return jnp.sum(x**2)\n",
    "\n",
    "sum_of_squares_dx = jax.grad(sum_of_squares)\n",
    "\n",
    "x = jnp.asarray([1.0, 2.0, 3.0, 4.0])\n",
    "\n",
    "print(sum_of_squares(x))\n",
    "\n",
    "print(sum_of_squares_dx(x))"
   ]
  },
  {
   "cell_type": "code",
   "execution_count": 42,
   "metadata": {},
   "outputs": [
    {
     "name": "stdout",
     "output_type": "stream",
     "text": [
      "[-0.20000005 -0.19999981 -0.19999981 -0.19999981]\n"
     ]
    }
   ],
   "source": [
    "def sum_squared_error(x, y):\n",
    "  return jnp.sum((x-y)**2)\n",
    "\n",
    "sum_squared_error_dx = jax.grad(sum_squared_error)\n",
    "\n",
    "y = jnp.asarray([1.1, 2.1, 3.1, 4.1])\n",
    "\n",
    "print(sum_squared_error_dx(x, y))"
   ]
  },
  {
   "cell_type": "code",
   "execution_count": 55,
   "metadata": {},
   "outputs": [
    {
     "name": "stdout",
     "output_type": "stream",
     "text": [
      "(Array([0.20000005, 0.19999981, 0.19999981, 0.19999981], dtype=float32),)\n",
      "1.9489917853651297 -1.981586552048152\n",
      "0.2477871269328129 -0.24415047100582213\n"
     ]
    },
    {
     "data": {
      "text/plain": [
       "<matplotlib.collections.PathCollection at 0x2cbd6db40>"
      ]
     },
     "execution_count": 55,
     "metadata": {},
     "output_type": "execute_result"
    },
    {
     "data": {
      "image/png": "[encoded data removed]",
      "text/plain": [
       "<Figure size 640x480 with 1 Axes>"
      ]
     },
     "metadata": {},
     "output_type": "display_data"
    }
   ],
   "source": [
    "a = jax.grad(sum_squared_error, argnums=(1,))(x, y)  # Find gradient wrt both x & y\n",
    "print(a)\n",
    "# print(b)\n",
    "\n",
    "import numpy as np\n",
    "import matplotlib.pyplot as plt\n",
    "\n",
    "xs = np.random.normal(size=(100,))\n",
    "print(xs.max(),xs.min())\n",
    "noise = np.random.normal(scale=0.1, size=(100,))\n",
    "print(noise.max(), noise.min())\n",
    "ys = xs * 3 - 1 + noise\n",
    "\n",
    "plt.scatter(xs, ys)"
   ]
  },
  {
   "cell_type": "code",
   "execution_count": 56,
   "metadata": {},
   "outputs": [],
   "source": [
    "def model(theta, x):\n",
    "  \"\"\"Computes wx + b on a batch of input x.\"\"\"\n",
    "  w, b = theta\n",
    "  return w * x + b"
   ]
  },
  {
   "cell_type": "code",
   "execution_count": 57,
   "metadata": {},
   "outputs": [],
   "source": [
    "def loss_fn(theta, x, y):\n",
    "  prediction = model(theta, x)\n",
    "  return jnp.mean((prediction-y)**2)"
   ]
  },
  {
   "cell_type": "code",
   "execution_count": 65,
   "metadata": {},
   "outputs": [],
   "source": [
    "@jax.jit\n",
    "def update(theta, x, y, lr=0.1):\n",
    "  return theta - lr * jax.grad(loss_fn)(theta, x, y)"
   ]
  },
  {
   "cell_type": "code",
   "execution_count": 66,
   "metadata": {},
   "outputs": [
    {
     "name": "stdout",
     "output_type": "stream",
     "text": [
      "w: 2.99, b: -1.01\n"
     ]
    },
    {
     "data": {
      "image/png": "[encoded data removed]",
      "text/plain": [
       "<Figure size 640x480 with 1 Axes>"
      ]
     },
     "metadata": {},
     "output_type": "display_data"
    }
   ],
   "source": [
    "theta = jnp.array([1., 1.])\n",
    "\n",
    "for _ in range(1000):\n",
    "  theta = update(theta, xs, ys)\n",
    "\n",
    "plt.scatter(xs, ys)\n",
    "plt.plot(xs, model(theta, xs))\n",
    "\n",
    "w, b = theta\n",
    "print(f\"w: {w:<.2f}, b: {b:<.2f}\")"
   ]
  },
  {
   "cell_type": "code",
   "execution_count": 67,
   "metadata": {},
   "outputs": [
    {
     "name": "stdout",
     "output_type": "stream",
     "text": [
      "{ lambda ; a:f32[]. let\n",
      "    b:f32[] = log a\n",
      "    c:f32[] = log 2.0\n",
      "    d:f32[] = div b c\n",
      "  in (d,) }\n"
     ]
    }
   ],
   "source": [
    "import jax\n",
    "import jax.numpy as jnp\n",
    "\n",
    "global_list = []\n",
    "\n",
    "def log2(x):\n",
    "  global_list.append(x)\n",
    "  ln_x = jnp.log(x)\n",
    "  ln_2 = jnp.log(2.0)\n",
    "  return ln_x / ln_2\n",
    "\n",
    "print(jax.make_jaxpr(log2)(3.0))"
   ]
  }
 ],
 "metadata": {
  "kernelspec": {
   "display_name": "waymax",
   "language": "python",
   "name": "python3"
  },
  "language_info": {
   "codemirror_mode": {
    "name": "ipython",
    "version": 3
   },
   "file_extension": ".py",
   "mimetype": "text/x-python",
   "name": "python",
   "nbconvert_exporter": "python",
   "pygments_lexer": "ipython3",
   "version": "3.10.13"
  },
  "orig_nbformat": 4
 },
 "nbformat": 4,
 "nbformat_minor": 2
}
